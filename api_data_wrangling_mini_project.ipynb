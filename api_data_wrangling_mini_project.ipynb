{
 "cells": [
  {
   "cell_type": "markdown",
   "metadata": {},
   "source": [
    "This exercise will require you to pull some data from the Qunadl API. Qaundl is currently the most widely used aggregator of financial market data."
   ]
  },
  {
   "cell_type": "markdown",
   "metadata": {},
   "source": [
    "As a first step, you will need to register a free account on the http://www.quandl.com website."
   ]
  },
  {
   "cell_type": "markdown",
   "metadata": {},
   "source": [
    "After you register, you will be provided with a unique API key, that you should store:"
   ]
  },
  {
   "cell_type": "code",
   "execution_count": 2,
   "metadata": {},
   "outputs": [],
   "source": [
    "# Store the API key as a string - according to PEP8, constants are always named in all upper case\n",
    "API_KEY = '___'"
   ]
  },
  {
   "cell_type": "markdown",
   "metadata": {},
   "source": [
    "Qaundl has a large number of data sources, but, unfortunately, most of them require a Premium subscription. Still, there are also a good number of free datasets."
   ]
  },
  {
   "cell_type": "markdown",
   "metadata": {},
   "source": [
    "For this mini project, we will focus on equities data from the Frankfurt Stock Exhange (FSE), which is available for free. We'll try and analyze the stock prices of a company called Carl Zeiss Meditec, which manufactures tools for eye examinations, as well as medical lasers for laser eye surgery: https://www.zeiss.com/meditec/int/home.html. The company is listed under the stock ticker AFX_X."
   ]
  },
  {
   "cell_type": "markdown",
   "metadata": {},
   "source": [
    "You can find the detailed Quandl API instructions here: https://docs.quandl.com/docs/time-series"
   ]
  },
  {
   "cell_type": "markdown",
   "metadata": {},
   "source": [
    "While there is a dedicated Python package for connecting to the Quandl API, we would prefer that you use the *requests* package, which can be easily downloaded using *pip* or *conda*. You can find the documentation for the package here: http://docs.python-requests.org/en/master/ "
   ]
  },
  {
   "cell_type": "markdown",
   "metadata": {},
   "source": [
    "Finally, apart from the *requests* package, you are encouraged to not use any third party Python packages, such as *pandas*, and instead focus on what's available in the Python Standard Library (the *collections* module might come in handy: https://pymotw.com/3/collections/ ).\n",
    "Also, since you won't have access to DataFrames, you are encouraged to us Python's native data structures - preferably dictionaries, though some questions can also be answered using lists.\n",
    "You can read more on these data structures here: https://docs.python.org/3/tutorial/datastructures.html"
   ]
  },
  {
   "cell_type": "markdown",
   "metadata": {},
   "source": [
    "Keep in mind that the JSON responses you will be getting from the API map almost one-to-one to Python's dictionaries. Unfortunately, they can be very nested, so make sure you read up on indexing dictionaries in the documentation provided above."
   ]
  },
  {
   "cell_type": "code",
   "execution_count": 3,
   "metadata": {},
   "outputs": [],
   "source": [
    "# First, import the relevant modules\n",
    "import requests"
   ]
  },
  {
   "cell_type": "code",
   "execution_count": 4,
   "metadata": {},
   "outputs": [],
   "source": [
    "# Now, call the Quandl API and pull out a small sample of the data (only one day) to get a glimpse\n",
    "# into the JSON structure that will be returned\n",
    "r = requests.get('https://www.quandl.com/api/v3/datasets/FSE/AFX_X/data.json?api_key=' + API_KEY)"
   ]
  },
  {
   "cell_type": "code",
   "execution_count": 13,
   "metadata": {},
   "outputs": [],
   "source": [
    "# Inspect the JSON structure of the object you created, and take note of how nested it is,\n",
    "# as well as the overall structure\n",
    "r.json()"
   ]
  },
  {
   "cell_type": "markdown",
   "metadata": {},
   "source": [
    "These are your tasks for this mini project:\n",
    "\n",
    "1. Collect data from the Franfurt Stock Exchange, for the ticker AFX_X, for the whole year 2017 (keep in mind that the date format is YYYY-MM-DD).\n",
    "2. Convert the returned JSON object into a Python dictionary.\n",
    "3. Calculate what the highest and lowest opening prices were for the stock in this period.\n",
    "4. What was the largest change in any one day (based on High and Low price)?\n",
    "5. What was the largest change between any two days (based on Closing Price)?\n",
    "6. What was the average daily trading volume during this year?\n",
    "7. (Optional) What was the median trading volume during this year. (Note: you may need to implement your own function for calculating the median.)"
   ]
  },
  {
   "cell_type": "code",
   "execution_count": 29,
   "metadata": {},
   "outputs": [],
   "source": [
    "#Question 1 Answer:\n",
    "\n",
    "#Extracts data from API as json.\n",
    "r = requests.get(\"https://www.quandl.com/api/v3/datasets/FSE/EON_X?start_date=2017-01-01&end_date=2017-12-31&api_key=\" + API_KEY)"
   ]
  },
  {
   "cell_type": "code",
   "execution_count": 30,
   "metadata": {},
   "outputs": [],
   "source": [
    "#Question 2 Answer:\n",
    "\n",
    "#Converts json into dictionary.\n",
    "FSE = dict(r.json())"
   ]
  },
  {
   "cell_type": "code",
   "execution_count": 31,
   "metadata": {},
   "outputs": [
    {
     "data": {
      "text/plain": [
       "[{'Date': '2017-12-29',\n",
       "  'Open': 9.09,\n",
       "  'High': 9.12,\n",
       "  'Low': 9.06,\n",
       "  'Close': 9.06,\n",
       "  'Change': None,\n",
       "  'Traded Volume': 6460376.0,\n",
       "  'Turnover': 58678823.0,\n",
       "  'Last Price of the Day': None,\n",
       "  'Daily Traded Units': None,\n",
       "  'Daily Turnover': None},\n",
       " {'Date': '2017-12-28',\n",
       "  'Open': 9.15,\n",
       "  'High': 9.16,\n",
       "  'Low': 9.06,\n",
       "  'Close': 9.08,\n",
       "  'Change': None,\n",
       "  'Traded Volume': 5767048.0,\n",
       "  'Turnover': 52509707.0,\n",
       "  'Last Price of the Day': None,\n",
       "  'Daily Traded Units': None,\n",
       "  'Daily Turnover': None},\n",
       " {'Date': '2017-12-27',\n",
       "  'Open': 9.22,\n",
       "  'High': 9.28,\n",
       "  'Low': 9.1,\n",
       "  'Close': 9.15,\n",
       "  'Change': None,\n",
       "  'Traded Volume': 5746408.0,\n",
       "  'Turnover': 52653378.0,\n",
       "  'Last Price of the Day': None,\n",
       "  'Daily Traded Units': None,\n",
       "  'Daily Turnover': None}]"
      ]
     },
     "execution_count": 31,
     "metadata": {},
     "output_type": "execute_result"
    }
   ],
   "source": [
    "#Create list of dictionaries pairing column names (keys) to data (values).  Deployed as Method 2.\n",
    "list_D =[]\n",
    "col_names = FSE['dataset']['column_names']\n",
    "data = FSE['dataset']['data']\n",
    "\n",
    "for x in range(len(data)):\n",
    "    D = {}\n",
    "    for i in range(len(col_names)):\n",
    "        D[col_names[i]] = data[x][i]\n",
    "    list_D.append(D)\n",
    "    \n",
    "list_D[0:3]"
   ]
  },
  {
   "cell_type": "code",
   "execution_count": 32,
   "metadata": {},
   "outputs": [
    {
     "name": "stdout",
     "output_type": "stream",
     "text": [
      "The highest opening price in 2017 was 10.75\n",
      "The lowest opening price in 2017 was 6.65\n"
     ]
    }
   ],
   "source": [
    "#Question 3 Method 1 Answer:\n",
    "\n",
    "#Create list object and populate it with the opening prices from the dataset.\n",
    "opn = []\n",
    "for i in FSE['dataset']['data']:\n",
    "    opn.append(i[1])\n",
    "    \n",
    "#Print the maximum and minimum value from the \"opn\" list.\n",
    "print ('The highest opening price in 2017 was {}'.format(max(opn)))\n",
    "print ('The lowest opening price in 2017 was {}'.format(min(opn)))"
   ]
  },
  {
   "cell_type": "code",
   "execution_count": 10,
   "metadata": {},
   "outputs": [
    {
     "name": "stdout",
     "output_type": "stream",
     "text": [
      "The highest opening price in 2017 was 10.75\n",
      "The lowest opening price in 2017 was 6.65\n"
     ]
    }
   ],
   "source": [
    "#Question 3 Method 2 Answer:\n",
    "\n",
    "#Create list and populate it with the opening prices from the dataset.\n",
    "opn = [i['Open'] for i in list_D]\n",
    "\n",
    "#Print the maximum and minimum value from the \"opn\" list.\n",
    "print ('The highest opening price in 2017 was {}'.format(max(opn)))\n",
    "print ('The lowest opening price in 2017 was {}'.format(min(opn))) "
   ]
  },
  {
   "cell_type": "code",
   "execution_count": 10,
   "metadata": {},
   "outputs": [
    {
     "name": "stdout",
     "output_type": "stream",
     "text": [
      "The highest single day change was 0.6999999999999993\n"
     ]
    }
   ],
   "source": [
    "#Question 4 Method 1 Answer:\n",
    "\n",
    "#Create list and populate it with the difference between daily high prices and low prices from the dataset. \n",
    "day_change = []\n",
    "for i in FSE['dataset']['data']:\n",
    "    day_change.append(i[2] - i[3])\n",
    "    \n",
    "#Print the maximum value in the \"day_change\" list.  \n",
    "print ('The highest single day change was {}'.format(max(day_change)))"
   ]
  },
  {
   "cell_type": "code",
   "execution_count": 22,
   "metadata": {},
   "outputs": [
    {
     "name": "stdout",
     "output_type": "stream",
     "text": [
      "The highest single day change was 0.6999999999999993\n"
     ]
    }
   ],
   "source": [
    "#Question 4 Method 2 Answer:\n",
    "\n",
    "#Create list and populate it with the difference between daily high prices and low prices from the dataset. \n",
    "day_change = [i['High'] - i['Low'] for i in list_D]\n",
    "\n",
    "#Print the maximum value in the \"day_change\" list.\n",
    "print ('The highest single day change was {}'.format(max(day_change)))"
   ]
  },
  {
   "cell_type": "code",
   "execution_count": 12,
   "metadata": {
    "scrolled": true
   },
   "outputs": [
    {
     "name": "stdout",
     "output_type": "stream",
     "text": [
      "The highest day-to-day change in closing price was 0.47999999999999865\n"
     ]
    }
   ],
   "source": [
    "#Question 5 Method 1 Answer:\n",
    "\n",
    "#Create list and populate it with the closing prices from the dataset.\n",
    "day_close = []\n",
    "for i in FSE['dataset']['data']:\n",
    "    day_close.append(i[4])\n",
    "\n",
    "#Create list and populate it with the day-to-day difference in closing price.\n",
    "day2day = []\n",
    "for x in range(len(day_close)):\n",
    "    try:\n",
    "        day2day.append(abs(day_close[x] - day_close[x+1]))\n",
    "    except IndexError:\n",
    "        ''\n",
    "\n",
    "#Print the maximum value in the \"day2day\" list.        \n",
    "print ('The highest day-to-day change in closing price was {}'.format(max(day2day)))"
   ]
  },
  {
   "cell_type": "code",
   "execution_count": 15,
   "metadata": {},
   "outputs": [
    {
     "name": "stdout",
     "output_type": "stream",
     "text": [
      "The highest day-to-day change in closing price was 0.47999999999999865\n"
     ]
    }
   ],
   "source": [
    "#Question 5 Method 2 Answer:\n",
    "\n",
    "#Create list and populate it with the closing prices from the dataset.\n",
    "day_close = [i['Close'] for i in list_D]\n",
    "\n",
    "#Create list and populate it with the day-to-day difference in closing price.\n",
    "day2day = []\n",
    "for x in range(len(day_close)):\n",
    "    try:\n",
    "        day2day.append(abs(day_close[x] - day_close[x+1]))\n",
    "    except IndexError:\n",
    "        ''\n",
    "#Print the maximum value in the \"day2day\" list.    \n",
    "print ('The highest day-to-day change in closing price was {}'.format(max(day2day)))"
   ]
  },
  {
   "cell_type": "code",
   "execution_count": 19,
   "metadata": {},
   "outputs": [
    {
     "name": "stdout",
     "output_type": "stream",
     "text": [
      "The average daily traded volume was 11708661.142857144\n"
     ]
    }
   ],
   "source": [
    "#Question 6 Method 1 Answer:\n",
    "\n",
    "#Create list and populate it with the traded volume from the dataset.\n",
    "trade_vol = []\n",
    "for i in FSE['dataset']['data']:\n",
    "        trade_vol.append(i[6])\n",
    "\n",
    "#Calculate the mean of the values in \"trade_vol\" list and store as \"avg\".\n",
    "avg = sum(trade_vol) / len(trade_vol)\n",
    "\n",
    "#Print the value of \"avg\"\n",
    "print ('The average daily traded volume was {}'.format(avg))"
   ]
  },
  {
   "cell_type": "code",
   "execution_count": 25,
   "metadata": {},
   "outputs": [
    {
     "name": "stdout",
     "output_type": "stream",
     "text": [
      "The average daily traded volume was 11708661.142857144\n"
     ]
    }
   ],
   "source": [
    "#Question 6 Method 2 Answer:\n",
    "\n",
    "#Create list and populate it with the traded volume from the dataset.\n",
    "trade_vol = [i['Traded Volume'] for i in list_D]\n",
    "\n",
    "#Calculate and print the mean of the values in \"trade_vol\" list and store as \"avg.\"\n",
    "print ('The average daily traded volume was {}'.format(sum(trade_vol) / len(trade_vol)))"
   ]
  },
  {
   "cell_type": "code",
   "execution_count": 17,
   "metadata": {},
   "outputs": [
    {
     "name": "stdout",
     "output_type": "stream",
     "text": [
      "The median daily traded volume was 15841548.0\n"
     ]
    }
   ],
   "source": [
    "#Question 7 Method 1 Answer:\n",
    "\n",
    "#Create list and populate it with the traded volume from the dataset.\n",
    "trade_vol = []\n",
    "for i in FSE['dataset']['data']:\n",
    "        trade_vol.append(i[6])\n",
    "\n",
    "#Calculate the median of the values in \"trade_vol\" list and store as \"median.\"\n",
    "trade_vol.sort()\n",
    "if len(trade_vol) % 2 == 0:\n",
    "    x = int(len(trade_vol) / 2)\n",
    "    y = x+1\n",
    "    median = (trade_vol[x] + trade_vol[y] / 2)\n",
    "else:\n",
    "    a = int(len(trade_vol) / 2) +1\n",
    "    median = (trade_vol[a])\n",
    "\n",
    "#Print the value of \"median.\"\n",
    "print ('The median daily traded volume was {}'.format(median))"
   ]
  },
  {
   "cell_type": "code",
   "execution_count": 27,
   "metadata": {},
   "outputs": [
    {
     "name": "stdout",
     "output_type": "stream",
     "text": [
      "The median daily traded volume was 15841548.0\n"
     ]
    }
   ],
   "source": [
    "#Question 7 Method 2 Answer:\n",
    "\n",
    "#Create list and populate it with the traded volume from the dataset.\n",
    "trade_vol = [i['Traded Volume'] for i in list_D]\n",
    "\n",
    "#Calculate the median of the values in \"trade_vol\" list and store as \"median.\"\n",
    "trade_vol.sort()\n",
    "if len(trade_vol) % 2 == 0:\n",
    "    x = int(len(trade_vol) / 2)\n",
    "    y = x+1\n",
    "    median = (trade_vol[x] + trade_vol[y] / 2)\n",
    "else:\n",
    "    a = int(len(trade_vol) / 2) +1\n",
    "    median = (trade_vol[a])\n",
    "    \n",
    "#Print the value of \"median.\"        \n",
    "print ('The median daily traded volume was {}'.format(median))"
   ]
  },
  {
   "cell_type": "code",
   "execution_count": null,
   "metadata": {},
   "outputs": [],
   "source": []
  }
 ],
 "metadata": {
  "kernelspec": {
   "display_name": "Python 3",
   "language": "python",
   "name": "python3"
  },
  "language_info": {
   "codemirror_mode": {
    "name": "ipython",
    "version": 3
   },
   "file_extension": ".py",
   "mimetype": "text/x-python",
   "name": "python",
   "nbconvert_exporter": "python",
   "pygments_lexer": "ipython3",
   "version": "3.7.1"
  }
 },
 "nbformat": 4,
 "nbformat_minor": 2
}
